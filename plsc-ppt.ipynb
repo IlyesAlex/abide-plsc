{
 "cells": [
  {
   "cell_type": "code",
   "execution_count": null,
   "id": "612a90f3",
   "metadata": {},
   "outputs": [],
   "source": [
    "from os.path import join\n",
    "import numpy as np\n",
    "import pandas as pd"
   ]
  },
  {
   "cell_type": "code",
   "execution_count": null,
   "id": "6fafb64f",
   "metadata": {},
   "outputs": [],
   "source": [
    "PROJ_DIR = \"./\"\n",
    "DATA_DIR = join(PROJ_DIR, \"dset\")"
   ]
  },
  {
   "cell_type": "code",
   "execution_count": null,
   "id": "0eb14415",
   "metadata": {},
   "outputs": [],
   "source": [
    "participant_df = pd.read_csv(join(DATA_DIR, \"participants.tsv\"), sep=\"\\t\")\n",
    "preprocessed_df = pd.read_csv(join(DATA_DIR, \"sub-group_task-rest_desc-1S2StTesthabenula_table.txt\"), sep=\"\\t\")\n"
   ]
  },
  {
   "cell_type": "code",
   "execution_count": null,
   "id": "a976e4a8",
   "metadata": {},
   "outputs": [],
   "source": [
    "participant_df"
   ]
  },
  {
   "cell_type": "code",
   "execution_count": null,
   "id": "01d2f0dc",
   "metadata": {},
   "outputs": [],
   "source": [
    "# Get the list of subject IDs from the preprocessed DataFrame\n",
    "valid_subjects = preprocessed_df[\"Subj\"].unique()\n",
    "\n",
    "# Filter participant_df to only include matching participant_id entries\n",
    "preproc_participant_df = participant_df[participant_df[\"participant_id\"].isin(valid_subjects)]\n"
   ]
  },
  {
   "cell_type": "markdown",
   "id": "8a5a7789",
   "metadata": {},
   "source": [
    "### first, let's find out the numbers for each of the combinations of abide phenotypic variables"
   ]
  },
  {
   "cell_type": "code",
   "execution_count": null,
   "id": "2661800d",
   "metadata": {},
   "outputs": [],
   "source": [
    "# List of desired columns to keep\n",
    "measures = [\n",
    "    \"participant_id\",\n",
    "    \"DX_GROUP\",\n",
    "    \"AGE_AT_SCAN\",\n",
    "    \"SRS_COMMUNICATION\",\n",
    "    \"SRS_COMMUNICATION_RAW\",\n",
    "    \"SRS_MOTIVATION\",\n",
    "    \"SRS_MOTIVATION_RAW\",\n",
    "    \"BRIEF_GEC_T\",\n",
    "    \"BRIEF_MI_T\",\n",
    "    \"BRIEF_BRI_T\",\n",
    "    \"ADI_R_RRB_TOTAL_C\",\n",
    "    \"ADI_R_SOCIAL_TOTAL_A\",\n",
    "    \"CBCL_6-18_TOTAL_PROBLEM_T\",\n",
    "]\n",
    "\n",
    "# Keep only the desired columns\n",
    "measure_df = preproc_participant_df[measures]\n",
    "\n",
    "# Replace all -9999 values with np.nan\n",
    "measure_df = measure_df.replace(-9999, np.nan)"
   ]
  },
  {
   "cell_type": "code",
   "execution_count": null,
   "id": "28d1f64b",
   "metadata": {},
   "outputs": [],
   "source": [
    "measure_df"
   ]
  },
  {
   "cell_type": "code",
   "execution_count": null,
   "id": "2767d293",
   "metadata": {},
   "outputs": [],
   "source": [
    "# Combine SRS Communication\n",
    "measure_df[\"SRS_COMMUNICATION_COMB\"] = (\n",
    "    measure_df[\"SRS_COMMUNICATION\"]\n",
    "    .combine_first(measure_df[\"SRS_COMMUNICATION_RAW\"])\n",
    ")\n",
    "\n",
    "# Combine SRS Motivation\n",
    "measure_df[\"SRS_MOTIVATION_COMB\"] = (\n",
    "    measure_df[\"SRS_MOTIVATION\"]\n",
    "    .combine_first(measure_df[\"SRS_MOTIVATION_RAW\"])\n",
    ")\n",
    "\n",
    "\n",
    "# Keep only participant_id and combined columns\n",
    "measure_df = measure_df[\n",
    "    [\n",
    "        \"participant_id\",\n",
    "        \"DX_GROUP\",\n",
    "        \"AGE_AT_SCAN\",\n",
    "        \"SRS_COMMUNICATION_COMB\",\n",
    "        \"SRS_MOTIVATION_COMB\",\n",
    "        \"BRIEF_GEC_T\",\n",
    "        \"BRIEF_MI_T\",\n",
    "        \"BRIEF_BRI_T\",\n",
    "        \"ADI_R_RRB_TOTAL_C\",\n",
    "        \"ADI_R_SOCIAL_TOTAL_A\",\n",
    "        \"CBCL_6-18_TOTAL_PROBLEM_T\",\n",
    "    ]\n",
    "]\n"
   ]
  },
  {
   "cell_type": "code",
   "execution_count": null,
   "id": "eaf62a55",
   "metadata": {},
   "outputs": [],
   "source": [
    "for col in measure_df.columns:\n",
    "    if col != \"participant_id\":\n",
    "        unique_vals = measure_df[col].dropna().unique()\n",
    "        print(f\"{col} — {len(unique_vals)} unique values:\\n{unique_vals}\\n\")\n"
   ]
  },
  {
   "cell_type": "code",
   "execution_count": null,
   "id": "4f68b7a5",
   "metadata": {},
   "outputs": [],
   "source": [
    "measure_df"
   ]
  },
  {
   "cell_type": "code",
   "execution_count": null,
   "id": "b6bc88f5",
   "metadata": {},
   "outputs": [],
   "source": [
    "# Columns we require data for\n",
    "cols_required = [\n",
    "    \"participant_id\",\n",
    "    \"DX_GROUP\",\n",
    "    \"AGE_AT_SCAN\",\n",
    "    \"SRS_COMMUNICATION_COMB\",\n",
    "    \"SRS_MOTIVATION_COMB\",\n",
    "    \"BRIEF_GEC_T\",\n",
    "    \"BRIEF_MI_T\",\n",
    "    \"BRIEF_BRI_T\",\n",
    "    \"ADI_R_RRB_TOTAL_C\",\n",
    "    \"ADI_R_SOCIAL_TOTAL_A\",\n",
    "]\n",
    "\n",
    "# Drop rows with any missing values in those columns\n",
    "complete_df = measure_df.dropna(subset=cols_required)\n",
    "\n",
    "# Overall count\n",
    "print(f\"Total participants with all 4 measures: {complete_df.shape[0]}\")\n",
    "\n",
    "# Count by DX_GROUP\n",
    "counts_by_group = complete_df[\"DX_GROUP\"].value_counts()\n",
    "print(\"\\nParticipants with all 4 measures by DX_GROUP:\")\n",
    "print(counts_by_group)"
   ]
  },
  {
   "cell_type": "markdown",
   "id": "f7bbd62d",
   "metadata": {},
   "source": [
    "### let's create the csv files that will be used in the PLSC\n",
    "#### 1. phenotypic data\n",
    "#### 2. covariate data\n",
    "#### 3. rsfc data "
   ]
  },
  {
   "cell_type": "code",
   "execution_count": null,
   "id": "d47e94cc",
   "metadata": {},
   "outputs": [],
   "source": [
    "phenotypes = [\n",
    "    \"SRS_COMMUNICATION_COMB\",\n",
    "    \"SRS_MOTIVATION_COMB\",\n",
    "    \"BRIEF_GEC_T\",\n",
    "    \"BRIEF_MI_T\",\n",
    "    \"BRIEF_BRI_T\",\n",
    "    \"ADI_R_RRB_TOTAL_C\",\n",
    "    \"ADI_R_SOCIAL_TOTAL_A\",\n",
    "]\n",
    "\n",
    "phenotype_df = complete_df[phenotypes]\n",
    "\n",
    "print(phenotype_df)\n",
    "\n",
    "## double check we don't want ppt id column and save as a csv"
   ]
  }
 ],
 "metadata": {
  "kernelspec": {
   "display_name": ".venv",
   "language": "python",
   "name": "python3"
  },
  "language_info": {
   "codemirror_mode": {
    "name": "ipython",
    "version": 3
   },
   "file_extension": ".py",
   "mimetype": "text/x-python",
   "name": "python",
   "nbconvert_exporter": "python",
   "pygments_lexer": "ipython3",
   "version": "3.9.6"
  }
 },
 "nbformat": 4,
 "nbformat_minor": 5
}
